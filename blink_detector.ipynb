{
 "cells": [
  {
   "cell_type": "code",
   "execution_count": 1,
   "metadata": {},
   "outputs": [],
   "source": [
    "import cv2\n",
    "import dlib\n",
    "from scipy.spatial import distance\n",
    "import imutils\n",
    "from imutils import face_utils\n",
    "import time"
   ]
  },
  {
   "cell_type": "code",
   "execution_count": 2,
   "metadata": {},
   "outputs": [],
   "source": [
    "# Contador de parpadeos\n",
    "BLINKS = 0\n",
    "\n",
    "# Para medir el ratio de parpadeo por segundo\n",
    "START_TIME = time.time()\n",
    "\n",
    "# Para medir cuánto tiempo los ojos han estado cerrados\n",
    "EYES_CLOSED_START = None\n",
    "MAX_EYES_CLOSED_TIME = 0\n"
   ]
  },
  {
   "cell_type": "code",
   "execution_count": 3,
   "metadata": {},
   "outputs": [],
   "source": [
    "def eye_aspect_ratio(eye):\n",
    "    # Calcula las distancias euclidianas entre los dos conjuntos de puntos verticales del ojo\n",
    "    A = distance.euclidean(eye[1], eye[5])\n",
    "    B = distance.euclidean(eye[2], eye[4])\n",
    "\n",
    "    # Calcula la distancia euclidiana entre los puntos horizontales del ojo\n",
    "    C = distance.euclidean(eye[0], eye[3])\n",
    "\n",
    "    # Calcula el EAR\n",
    "    ear = (A + B) / (2.0 * C)\n",
    "    return ear\n"
   ]
  },
  {
   "cell_type": "markdown",
   "metadata": {},
   "source": [
    "Inicializar variables"
   ]
  },
  {
   "cell_type": "code",
   "execution_count": 4,
   "metadata": {},
   "outputs": [],
   "source": [
    "# Inicializar dlib's face detector y el facial landmark predictor\n",
    "predictor_path = \"shape_predictor_68_face_landmarks.dat\"\n",
    "detector = dlib.get_frontal_face_detector()\n",
    "predictor = dlib.shape_predictor(predictor_path)\n",
    "\n",
    "# Índices para los landmarks de los ojos\n",
    "(lStart, lEnd) = face_utils.FACIAL_LANDMARKS_IDXS[\"left_eye\"]\n",
    "(rStart, rEnd) = face_utils.FACIAL_LANDMARKS_IDXS[\"right_eye\"]\n",
    "\n",
    "cap = cv2.VideoCapture(0)\n",
    "\n",
    "EAR_THRESHOLD = 0.2\n",
    "COUNTER = 0\n",
    "BLINKS = 0\n",
    "TOTAL_BLINKS = 0\n",
    "START_TIME = time.time()\n",
    "LAST_MINUTE_TIME = time.time()\n",
    "EYES_CLOSED_START = None\n",
    "MAX_EYES_CLOSED_TIME = 0\n"
   ]
  },
  {
   "cell_type": "code",
   "execution_count": 5,
   "metadata": {},
   "outputs": [],
   "source": [
    "\n",
    "while True:\n",
    "    ret, frame = cap.read()\n",
    "    if not ret:\n",
    "        break\n",
    "    \n",
    "    gray = cv2.cvtColor(frame, cv2.COLOR_BGR2GRAY)\n",
    "    rects = detector(gray, 0)\n",
    "\n",
    "    for rect in rects:\n",
    "        shape = predictor(gray, rect)\n",
    "        shape = face_utils.shape_to_np(shape)\n",
    "        leftEye = shape[lStart:lEnd]\n",
    "        rightEye = shape[rStart:rEnd]\n",
    "        \n",
    "        # Dibqujar recuadros alrededor de los ojos\n",
    "        leftEyeHull = cv2.convexHull(leftEye)\n",
    "        (x, y, w, h) = cv2.boundingRect(leftEyeHull)\n",
    "        cv2.rectangle(frame, (x, y), (x + w, y + h), (0, 255, 0), 1)\n",
    "\n",
    "        rightEyeHull = cv2.convexHull(rightEye)\n",
    "        (x, y, w, h) = cv2.boundingRect(rightEyeHull)\n",
    "        cv2.rectangle(frame, (x, y), (x + w, y + h), (0, 255, 0), 1)\n",
    "        \n",
    "        # Continuar con la detección de parpadeos\n",
    "        leftEAR = eye_aspect_ratio(leftEye)\n",
    "        rightEAR = eye_aspect_ratio(rightEye)\n",
    "        ear = (leftEAR + rightEAR) / 2.0\n",
    "        \n",
    "        if ear < EAR_THRESHOLD:\n",
    "            COUNTER += 1\n",
    "            if EYES_CLOSED_START is None:\n",
    "                EYES_CLOSED_START = time.time()\n",
    "                \n",
    "            current_closed_duration = time.time() - EYES_CLOSED_START\n",
    "            cv2.putText(frame, f\"Eyes closed for: {current_closed_duration:.2f} seconds\", (10, 60), cv2.FONT_HERSHEY_SIMPLEX, 0.7, (0, 0, 255), 2)\n",
    "        else:\n",
    "            if EYES_CLOSED_START is not None:\n",
    "                eyes_closed_duration = time.time() - EYES_CLOSED_START\n",
    "                MAX_EYES_CLOSED_TIME = max(MAX_EYES_CLOSED_TIME, eyes_closed_duration)\n",
    "                EYES_CLOSED_START = None\n",
    "\n",
    "            if COUNTER >= 3:\n",
    "                BLINKS += 1\n",
    "                TOTAL_BLINKS += 1\n",
    "                COUNTER = 0\n",
    "\n",
    "    elapsed_time = time.time() - START_TIME\n",
    "    BPS = BLINKS / elapsed_time\n",
    "    BPM = (TOTAL_BLINKS / (elapsed_time / 60))\n",
    "\n",
    "    if time.time() - LAST_MINUTE_TIME >= 60:\n",
    "        BLINKS = 0\n",
    "        LAST_MINUTE_TIME = time.time()\n",
    "\n",
    "    info1 = f\"Total Parpadeos: {TOTAL_BLINKS} - Parpadeos por minuto: {BPM:.2f}\"\n",
    "    info2 = f\"PxS: {BPS:.2f} - Maximo tiempo ojos cerrados: {MAX_EYES_CLOSED_TIME:.2f} s\"\n",
    "\n",
    "    cv2.putText(frame, info1, (10, 30), cv2.FONT_HERSHEY_SIMPLEX, 0.7, (0, 0, 255), 2)\n",
    "    cv2.putText(frame, info2, (10, 90), cv2.FONT_HERSHEY_SIMPLEX, 0.7, (0, 0, 255), 2)\n",
    "    \n",
    "    cv2.imshow(\"Frame\", frame)\n",
    "    if cv2.waitKey(1) & 0xFF == ord(\"q\"):\n",
    "        break\n",
    "\n",
    "cap.release()\n",
    "cv2.destroyAllWindows()"
   ]
  }
 ],
 "metadata": {
  "kernelspec": {
   "display_name": "Python 3",
   "language": "python",
   "name": "python3"
  },
  "language_info": {
   "codemirror_mode": {
    "name": "ipython",
    "version": 3
   },
   "file_extension": ".py",
   "mimetype": "text/x-python",
   "name": "python",
   "nbconvert_exporter": "python",
   "pygments_lexer": "ipython3",
   "version": "3.11.4"
  },
  "orig_nbformat": 4
 },
 "nbformat": 4,
 "nbformat_minor": 2
}
